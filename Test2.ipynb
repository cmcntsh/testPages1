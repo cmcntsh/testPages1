{
  "nbformat": 4,
  "nbformat_minor": 5,
  "metadata": {
    "selected_hardware_size": "small",
    "noteable": {
      "last_transaction_id": "950c17b3-b175-4346-b656-d74a81a72521"
    }
  },
  "cells": [
    {
      "id": "7f92ca06",
      "cell_type": "code",
      "metadata": {
        "noteable": {
          "output_collection_id": "60688663-d3e8-4965-85f0-49bc2fbbba0c"
        },
        "ExecuteTime": {
          "end_time": "2023-05-31T20:43:06.755680+00:00",
          "start_time": "2023-05-31T20:43:06.599781+00:00"
        }
      },
      "execution_count": null,
      "source": "print('Hello 2')\nprint('Hello 3')",
      "outputs": []
    }
  ]
}
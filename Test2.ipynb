{
  "nbformat": 4,
  "nbformat_minor": 5,
  "metadata": {
    "selected_hardware_size": "small",
    "noteable": {
      "last_transaction_id": "f342ab6b-5606-4324-b00b-dbdb7093566a"
    }
  },
  "cells": [
    {
      "id": "7f92ca06",
      "cell_type": "code",
      "metadata": {
        "noteable": {
          "output_collection_id": "855e7c1c-a2ff-4d25-a649-344509673806"
        },
        "ExecuteTime": {
          "end_time": "2023-05-31T20:40:09.873982+00:00",
          "start_time": "2023-05-31T20:40:09.717439+00:00"
        }
      },
      "execution_count": null,
      "source": "print('Hello 2')",
      "outputs": []
    }
  ]
}